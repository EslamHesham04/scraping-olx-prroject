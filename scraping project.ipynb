{
 "cells": [
  {
   "cell_type": "code",
   "execution_count": 1,
   "id": "9e6cea7a",
   "metadata": {},
   "outputs": [],
   "source": [
    "from selenium import webdriver\n",
    "from selenium.webdriver.chrome.service import Service\n",
    "from webdriver_manager.chrome import ChromeDriverManager\n",
    "from selenium.webdriver.common.by import By\n",
    "from selenium.webdriver.support.ui import Select\n",
    "from selenium.webdriver.support.ui import WebDriverWait\n",
    "from selenium.webdriver.support import expected_conditions as EC\n",
    "from selenium.webdriver.common.action_chains import ActionChains\n",
    "from selenium.webdriver.chrome.options import Options\n",
    "import os\n",
    "import time \n",
    "from selenium.webdriver.common.keys import Keys\n",
    "import numpy as np\n",
    "import pandas as pd"
   ]
  },
  {
   "cell_type": "code",
   "execution_count": 2,
   "id": "df7663b6",
   "metadata": {},
   "outputs": [
    {
     "name": "stderr",
     "output_type": "stream",
     "text": [
      "C:\\Users\\eslam\\AppData\\Local\\Temp\\ipykernel_3352\\3997440664.py:3: DeprecationWarning: use options instead of chrome_options\n",
      "  driver = webdriver.Chrome(service=s, chrome_options=chrome_options)\n"
     ]
    }
   ],
   "source": [
    "s=Service(ChromeDriverManager().install())\n",
    "chrome_options = Options()\n",
    "driver = webdriver.Chrome(service=s, chrome_options=chrome_options)\n",
    "driver.create_options()\\\n",
    "\n",
    "driver.maximize_window()"
   ]
  },
  {
   "cell_type": "code",
   "execution_count": 3,
   "id": "e1740c0b",
   "metadata": {},
   "outputs": [],
   "source": [
    "driver.get(\"https://www.olx.com.eg/en/\")"
   ]
  },
  {
   "cell_type": "code",
   "execution_count": 4,
   "id": "4fc9eba5",
   "metadata": {},
   "outputs": [
    {
     "name": "stdout",
     "output_type": "stream",
     "text": [
      "enter your productskoda a8\n"
     ]
    }
   ],
   "source": [
    "text = input(\"enter your product\")\n",
    "search = driver.find_element(By.XPATH,\"//input[@type='search']\")\n",
    "search.send_keys(text)"
   ]
  },
  {
   "cell_type": "code",
   "execution_count": 5,
   "id": "d220b3ef",
   "metadata": {},
   "outputs": [],
   "source": [
    "search_button = driver.find_element(By.CLASS_NAME, \"_4743d0f8\").click()"
   ]
  },
  {
   "cell_type": "code",
   "execution_count": 6,
   "id": "3871cce2",
   "metadata": {},
   "outputs": [],
   "source": [
    "link = []\n",
    "picture = []\n",
    "price = []\n",
    "info = []\n",
    "name = []\n",
    "while(True):\n",
    "    try:\n",
    "        time.sleep(3)\n",
    "        driver.find_element(By.XPATH,'//div[@title=\"Next\"]')\n",
    "        linksproducts = driver.find_elements(By.CLASS_NAME, 'ee2b0479')\n",
    "        for ele in linksproducts:\n",
    "            try:\n",
    "                ele_linksproducts=ele.find_element(By.TAG_NAME, 'a').get_attribute('href')\n",
    "                link.append(ele.find_element(By.TAG_NAME, 'a').get_attribute('href'))\n",
    "            except:\n",
    "                link.append('null')\n",
    "        imgs = driver.find_elements(By.CLASS_NAME, '_7e3920c1')\n",
    "        for ele in imgs:\n",
    "            try:\n",
    "                ele_imgs=ele.find_element(By.TAG_NAME, 'img').get_attribute('data-src')\n",
    "                picture.append(ele_imgs)\n",
    "            except:\n",
    "                picture.append('null')\n",
    "            prices_products = driver.find_elements(By.CLASS_NAME,'_41d2b9f3')\n",
    "        for ele in prices_products:\n",
    "            try:\n",
    "                ele_price=ele.find_element(By.CLASS_NAME, '_95eae7db').text\n",
    "                price.append(ele_price)\n",
    "            except:\n",
    "                price.append('null')\n",
    "        iformations_about_products = driver.find_elements(By.CLASS_NAME, '_4dbba078')\n",
    "        for ele in iformations_about_products:\n",
    "            try:\n",
    "                ele_iformations_about_products=ele.find_element(By.CLASS_NAME, '_424bf2a8').text\n",
    "                info.append(ele_iformations_about_products)\n",
    "            except:\n",
    "                info.append('null')\n",
    "        name_products = driver.find_elements(By.CLASS_NAME, '_41d2b9f3')\n",
    "        for ele in name_products:\n",
    "            try:\n",
    "                ele_name_products=ele.find_element(By.CLASS_NAME, 'a5112ca8').text\n",
    "                name.append(ele_name_products)\n",
    "            except:\n",
    "                name.append('null')\n",
    "        time.sleep(7)\n",
    "        driver.find_element(By.XPATH,'//div[@title=\"Next\"]').click()\n",
    "    except:\n",
    "        linksproducts = driver.find_elements(By.CLASS_NAME, 'ee2b0479')\n",
    "        for ele in linksproducts:\n",
    "            try:\n",
    "                ele_linksproducts=ele.find_element(By.TAG_NAME, 'a').get_attribute('href')\n",
    "                link.append(ele.find_element(By.TAG_NAME, 'a').get_attribute('href'))\n",
    "            except:\n",
    "                link.append('null')\n",
    "        imgs = driver.find_elements(By.CLASS_NAME, '_7e3920c1')\n",
    "        for ele in imgs:\n",
    "            try:\n",
    "                ele_imgs=ele.find_element(By.TAG_NAME, 'img').get_attribute('data-src')\n",
    "                picture.append(ele_imgs)\n",
    "            except:\n",
    "                picture.append('null')\n",
    "        prices_products = driver.find_elements(By.CLASS_NAME,'_41d2b9f3')\n",
    "        for ele in prices_products:\n",
    "            try:\n",
    "                ele_price=ele.find_element(By.CLASS_NAME, '_95eae7db').text\n",
    "                price.append(ele_price)\n",
    "            except:\n",
    "                price.append('null')\n",
    "        iformations_about_products = driver.find_elements(By.CLASS_NAME, '_4dbba078')\n",
    "        for ele in iformations_about_products:\n",
    "            try:\n",
    "                ele_iformations_about_products=ele.find_element(By.CLASS_NAME, '_424bf2a8').text\n",
    "                info.append(ele_iformations_about_products)\n",
    "            except:\n",
    "                info.append('null')\n",
    "        name_products = driver.find_elements(By.CLASS_NAME, '_41d2b9f3')\n",
    "        for ele in name_products:\n",
    "            try:\n",
    "                ele_name_products=ele.find_element(By.CLASS_NAME, 'a5112ca8').text\n",
    "                name.append(ele_name_products)\n",
    "            except:\n",
    "                name.append('null')\n",
    "        break"
   ]
  },
  {
   "cell_type": "code",
   "execution_count": 7,
   "id": "c83cc24a",
   "metadata": {},
   "outputs": [
    {
     "name": "stdout",
     "output_type": "stream",
     "text": [
      "182 182 182 182 182\n"
     ]
    }
   ],
   "source": [
    "print(len(info),len(link),len(price),len(picture),len(name))"
   ]
  },
  {
   "cell_type": "code",
   "execution_count": 8,
   "id": "67116d1c",
   "metadata": {},
   "outputs": [],
   "source": [
    "df = pd.DataFrame({'name': name,'price': price,'link': link,'info': info,'picture': picture})"
   ]
  },
  {
   "cell_type": "code",
   "execution_count": 9,
   "id": "b9b81a4c",
   "metadata": {},
   "outputs": [
    {
     "data": {
      "text/html": [
       "<div>\n",
       "<style scoped>\n",
       "    .dataframe tbody tr th:only-of-type {\n",
       "        vertical-align: middle;\n",
       "    }\n",
       "\n",
       "    .dataframe tbody tr th {\n",
       "        vertical-align: top;\n",
       "    }\n",
       "\n",
       "    .dataframe thead th {\n",
       "        text-align: right;\n",
       "    }\n",
       "</style>\n",
       "<table border=\"1\" class=\"dataframe\">\n",
       "  <thead>\n",
       "    <tr style=\"text-align: right;\">\n",
       "      <th></th>\n",
       "      <th>name</th>\n",
       "      <th>price</th>\n",
       "      <th>link</th>\n",
       "      <th>info</th>\n",
       "      <th>picture</th>\n",
       "    </tr>\n",
       "  </thead>\n",
       "  <tbody>\n",
       "    <tr>\n",
       "      <th>0</th>\n",
       "      <td>سكودا اوكتافيا A8 الفئه الاولى</td>\n",
       "      <td>EGP 250,000</td>\n",
       "      <td>https://www.olx.com.eg/en/ad/%D8%B3%D9%83%D9%8...</td>\n",
       "      <td>Heliopolis, Cairo•</td>\n",
       "      <td>https://images.olx.com.eg/thumbnails/19798274-...</td>\n",
       "    </tr>\n",
       "    <tr>\n",
       "      <th>1</th>\n",
       "      <td>سكودا اوكتافيا a8</td>\n",
       "      <td>EGP 300,000</td>\n",
       "      <td>https://www.olx.com.eg/en/ad/%D8%B3%D9%83%D9%8...</td>\n",
       "      <td>Heliopolis, Cairo•</td>\n",
       "      <td>https://images.olx.com.eg/thumbnails/11775132-...</td>\n",
       "    </tr>\n",
       "    <tr>\n",
       "      <th>2</th>\n",
       "      <td>skoda a7 2020</td>\n",
       "      <td>EGP 770,000</td>\n",
       "      <td>https://www.olx.com.eg/en/ad/skoda-a7-2020-ID1...</td>\n",
       "      <td>Almazah, Cairo•</td>\n",
       "      <td>https://images.olx.com.eg/thumbnails/51105597-...</td>\n",
       "    </tr>\n",
       "    <tr>\n",
       "      <th>3</th>\n",
       "      <td>سكودا اوكتافيا A8 Style</td>\n",
       "      <td>EGP 305,000</td>\n",
       "      <td>https://www.olx.com.eg/en/ad/%D8%B3%D9%83%D9%8...</td>\n",
       "      <td>New Cairo - El Tagamoa, Cairo•</td>\n",
       "      <td>https://images.olx.com.eg/thumbnails/19794568-...</td>\n",
       "    </tr>\n",
       "    <tr>\n",
       "      <th>4</th>\n",
       "      <td>اسكودا A8 عالزيروووووو</td>\n",
       "      <td>EGP 975,000</td>\n",
       "      <td>https://www.olx.com.eg/en/ad/%D8%A7%D8%B3%D9%8...</td>\n",
       "      <td>Heliopolis, Cairo•</td>\n",
       "      <td>https://images.olx.com.eg/thumbnails/51277876-...</td>\n",
       "    </tr>\n",
       "  </tbody>\n",
       "</table>\n",
       "</div>"
      ],
      "text/plain": [
       "                             name        price  \\\n",
       "0  سكودا اوكتافيا A8 الفئه الاولى  EGP 250,000   \n",
       "1               سكودا اوكتافيا a8  EGP 300,000   \n",
       "2                   skoda a7 2020  EGP 770,000   \n",
       "3         سكودا اوكتافيا A8 Style  EGP 305,000   \n",
       "4          اسكودا A8 عالزيروووووو  EGP 975,000   \n",
       "\n",
       "                                                link  \\\n",
       "0  https://www.olx.com.eg/en/ad/%D8%B3%D9%83%D9%8...   \n",
       "1  https://www.olx.com.eg/en/ad/%D8%B3%D9%83%D9%8...   \n",
       "2  https://www.olx.com.eg/en/ad/skoda-a7-2020-ID1...   \n",
       "3  https://www.olx.com.eg/en/ad/%D8%B3%D9%83%D9%8...   \n",
       "4  https://www.olx.com.eg/en/ad/%D8%A7%D8%B3%D9%8...   \n",
       "\n",
       "                             info  \\\n",
       "0              Heliopolis, Cairo•   \n",
       "1              Heliopolis, Cairo•   \n",
       "2                 Almazah, Cairo•   \n",
       "3  New Cairo - El Tagamoa, Cairo•   \n",
       "4              Heliopolis, Cairo•   \n",
       "\n",
       "                                             picture  \n",
       "0  https://images.olx.com.eg/thumbnails/19798274-...  \n",
       "1  https://images.olx.com.eg/thumbnails/11775132-...  \n",
       "2  https://images.olx.com.eg/thumbnails/51105597-...  \n",
       "3  https://images.olx.com.eg/thumbnails/19794568-...  \n",
       "4  https://images.olx.com.eg/thumbnails/51277876-...  "
      ]
     },
     "execution_count": 9,
     "metadata": {},
     "output_type": "execute_result"
    }
   ],
   "source": [
    "df.head()"
   ]
  },
  {
   "cell_type": "code",
   "execution_count": 10,
   "id": "74f2a947",
   "metadata": {},
   "outputs": [],
   "source": [
    "df.to_csv('df.csv',encoding ='utf-8-sig')"
   ]
  },
  {
   "cell_type": "code",
   "execution_count": null,
   "id": "d885c625",
   "metadata": {},
   "outputs": [],
   "source": []
  }
 ],
 "metadata": {
  "kernelspec": {
   "display_name": "Python 3 (ipykernel)",
   "language": "python",
   "name": "python3"
  },
  "language_info": {
   "codemirror_mode": {
    "name": "ipython",
    "version": 3
   },
   "file_extension": ".py",
   "mimetype": "text/x-python",
   "name": "python",
   "nbconvert_exporter": "python",
   "pygments_lexer": "ipython3",
   "version": "3.9.12"
  }
 },
 "nbformat": 4,
 "nbformat_minor": 5
}
